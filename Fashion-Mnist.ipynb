{
 "cells": [
  {
   "cell_type": "code",
   "execution_count": 93,
   "metadata": {},
   "outputs": [],
   "source": [
    "import pandas as pd\n",
    "import matplotlib as plt\n",
    "import numpy as np\n",
    "%matplotlib inline\n",
    "plt.style.use('seaborn')\n"
   ]
  },
  {
   "cell_type": "code",
   "execution_count": 94,
   "metadata": {},
   "outputs": [],
   "source": [
    "dp = pd.read_csv(\"FashionData/fashion-mnist_train.csv\")\n",
    "data = dp.values\n",
    "data = data[:400,:]\n"
   ]
  },
  {
   "cell_type": "code",
   "execution_count": 95,
   "metadata": {},
   "outputs": [
    {
     "name": "stdout",
     "output_type": "stream",
     "text": [
      "(400, 784)\n",
      "(400,)\n",
      "(400, 784)\n",
      "(400,)\n"
     ]
    }
   ],
   "source": [
    "# print(data[10])\n",
    "dt = np.array(data)\n",
    "# print(data.shape)\n",
    "\n",
    "Y = dt[:,0]\n",
    "X = dt[:,1:]\n",
    "print(X.shape)\n",
    "print(Y.shape)\n",
    "# print(X[1000])\n",
    "# print(Y[1000])\n",
    "\n",
    "x_train=np.array(X)\n",
    "y_train= np.array(Y)\n",
    "print(x_train.shape)\n",
    "print(y_train.shape)"
   ]
  },
  {
   "cell_type": "code",
   "execution_count": 111,
   "metadata": {},
   "outputs": [],
   "source": [
    "def sigmoid(z):\n",
    "    \n",
    "    return 1.0/(1.0 + np.exp(-1.0*z))\n",
    "\n",
    "def hypo(x,w,b):\n",
    "    \n",
    "    h = np.dot(x,w) + b\n",
    "    \n",
    "    return sigmoid(h)\n",
    "\n",
    "def error(y_true,x,w,b):\n",
    "    \n",
    "    m = x.shape[0]\n",
    "    err=0.0\n",
    "    \n",
    "    for ix in range(m):\n",
    "        hx = hypo(x[ix],w,b)\n",
    "#         err += y_true[ix]*np.log2(hx) + (1-y_true[ix])*np.log2(1-hx)\n",
    "        \n",
    "     \n",
    "    return -err/m\n",
    "\n",
    "def get_grad(y_true,x,w,b):\n",
    "    \n",
    "    grad_w=np.zeros(x.shape[1])\n",
    "    grad_b=0.0\n",
    "    \n",
    "    m= x.shape[0]\n",
    "    n= x.shape[1]\n",
    "    for i in range(m):\n",
    "        for j in range(n):\n",
    "            hx = hypo(x[i],w,b)\n",
    "        \n",
    "            grad_w[j] += -1*(y_true[i] - hx)*x[i][j]\n",
    "            grad_b += -1*(y_true[i] - hx)\n",
    "        \n",
    "        \n",
    "    grad_w /=m\n",
    "    grad_b /=m\n",
    "    \n",
    "    return [grad_w, grad_b]\n",
    "\n",
    "def grad_Descent(x,y_true,w,b,lr):\n",
    "    \n",
    "    err=error(y_true,x,w,b)\n",
    "    \n",
    "    [grad_w,grad_b] = get_grad(y_true,x,w,b)\n",
    "    for i in range(w.shape[0]):\n",
    "             w[i] = w[i] - lr*grad_w[i]\n",
    "    b = b - lr*grad_b\n",
    "   \n",
    "    \n",
    "    return err,w,b\n"
   ]
  },
  {
   "cell_type": "code",
   "execution_count": 112,
   "metadata": {},
   "outputs": [
    {
     "name": "stderr",
     "output_type": "stream",
     "text": [
      "/home/arif/.local/lib/python2.7/site-packages/ipykernel_launcher.py:3: RuntimeWarning: overflow encountered in exp\n",
      "  This is separate from the ipykernel package so we can avoid doing imports until\n"
     ]
    }
   ],
   "source": [
    "y_unik = np.unique(y_train)\n",
    "ws = [[]]\n",
    "bs = []\n",
    "for ix in range(y_unik.shape[0]):\n",
    "    y_true = Y[:]\n",
    "    y_true[y_true==y_unik[ix]] = 20\n",
    "    y_true[y_true!=y_unik[ix]] = 30\n",
    "    \n",
    "    y_true[y_true==20] = 1\n",
    "    y_true[y_true==30] = 0\n",
    "    x_true = X[:]\n",
    "    \n",
    "    W = 3*np.random.random(x_train.shape[1],)\n",
    "    B = 5*np.random.random()\n",
    "\n",
    "    for iy in range(10):\n",
    "        e,W,B=grad_Descent(x_true,y_true,W,B,lr=0.5)\n",
    "    \n",
    "#     thetas[ix][0] = B[0]\n",
    "    \n",
    "#     for iz in range(1,thetas.shape[1]):\n",
    "#         thetas[ix][iz]=W[iz-1]\n",
    "\n",
    "    ws.append(W)\n",
    "    bs.append(B)\n",
    "    \n",
    "   \n",
    "    "
   ]
  },
  {
   "cell_type": "code",
   "execution_count": 114,
   "metadata": {},
   "outputs": [
    {
     "name": "stdout",
     "output_type": "stream",
     "text": [
      "(2,)\n",
      "(1,)\n",
      "1\n",
      "[1]\n"
     ]
    }
   ],
   "source": [
    "ws = np.array(ws)\n",
    "bs = np.array(bs)\n",
    "print(ws.shape)\n",
    "# print(ws[0].shape)\n",
    "print(bs.shape)\n",
    "y_unik = np.unique(y_train)\n",
    "print(y_unik.shape[0])\n",
    "print(y_unik)\n",
    "# print(ws)"
   ]
  },
  {
   "cell_type": "code",
   "execution_count": null,
   "metadata": {},
   "outputs": [],
   "source": []
  }
 ],
 "metadata": {
  "kernelspec": {
   "display_name": "Python 2",
   "language": "python",
   "name": "python2"
  },
  "language_info": {
   "codemirror_mode": {
    "name": "ipython",
    "version": 2
   },
   "file_extension": ".py",
   "mimetype": "text/x-python",
   "name": "python",
   "nbconvert_exporter": "python",
   "pygments_lexer": "ipython2",
   "version": "2.7.12"
  }
 },
 "nbformat": 4,
 "nbformat_minor": 2
}
