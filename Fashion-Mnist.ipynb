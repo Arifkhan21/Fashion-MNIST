{
 "cells": [
  {
   "cell_type": "code",
   "execution_count": 1,
   "metadata": {},
   "outputs": [],
   "source": [
    "import pandas as pd\n",
    "import matplotlib.pyplot as plt\n",
    "import numpy as np\n",
    "%matplotlib inline\n",
    "plt.style.use('seaborn')\n"
   ]
  },
  {
   "cell_type": "code",
   "execution_count": 2,
   "metadata": {},
   "outputs": [],
   "source": [
    "dp = pd.read_csv(\"FashionData/fashion-mnist_train.csv\")\n",
    "data = dp.values\n",
    "data = data[:100,:]\n"
   ]
  },
  {
   "cell_type": "code",
   "execution_count": 3,
   "metadata": {},
   "outputs": [
    {
     "name": "stdout",
     "output_type": "stream",
     "text": [
      "(100, 784)\n",
      "(100,)\n",
      "(100, 784)\n",
      "(100,)\n"
     ]
    }
   ],
   "source": [
    "# print(data[10])\n",
    "dt = np.array(data)\n",
    "np.random.shuffle(dt)\n",
    "# print(data.shape)\n",
    "\n",
    "Y = dt[:,0]\n",
    "X = dt[:,1:]\n",
    "print(X.shape)\n",
    "print(Y.shape)\n",
    "# print(X[1000])\n",
    "# print(Y[1000])\n",
    "\n",
    "x_train=np.array(X)\n",
    "y_train= np.array(Y)\n",
    "print(x_train.shape)\n",
    "print(y_train.shape)"
   ]
  },
  {
   "cell_type": "code",
   "execution_count": 4,
   "metadata": {},
   "outputs": [],
   "source": [
    "def sigmoid(z):\n",
    "    \n",
    "    return 1.0/(1.0 + np.exp(-1.0*z))\n",
    "\n",
    "def hypo(x,w,b):\n",
    "    \n",
    "    h = np.dot(x,w) + b\n",
    "    \n",
    "    return sigmoid(h)\n",
    "\n",
    "def error(y_true,x,w,b):\n",
    "    \n",
    "    m = x.shape[0]\n",
    "    err=0.0\n",
    "    \n",
    "    for ix in range(m):\n",
    "        hx = hypo(x[ix],w,b)\n",
    "        err += y_true[ix]*np.log2(hx) + (1-y_true[ix])*np.log2(1-hx)\n",
    "        \n",
    "     \n",
    "    return -err/m\n",
    "\n",
    "def get_grad(y_true,x,w,b):\n",
    "    \n",
    "    grad_w=np.zeros(x.shape[1])\n",
    "    grad_b=0.0\n",
    "    \n",
    "    m= x.shape[0]\n",
    "    n= x.shape[1]\n",
    "    for i in range(m):\n",
    "        for j in range(n):\n",
    "            hx = hypo(x[i],w,b)\n",
    "        \n",
    "            grad_w[j] += -1*(y_true[i] - hx)*x[i][j]\n",
    "            grad_b += -1*(y_true[i] - hx)\n",
    "        \n",
    "        \n",
    "    grad_w /=m\n",
    "    grad_b /=m\n",
    "    \n",
    "    return [grad_w, grad_b]\n",
    "\n",
    "def grad_Descent(x,y_true,w,b,lr):\n",
    "    \n",
    "    err=error(y_true,x,w,b)\n",
    "    \n",
    "    [grad_w,grad_b] = get_grad(y_true,x,w,b)\n",
    "    for i in range(w.shape[0]):\n",
    "             w[i] = w[i] - lr*grad_w[i]\n",
    "    b = b - lr*grad_b\n",
    "   \n",
    "    \n",
    "    return err,w,b\n"
   ]
  },
  {
   "cell_type": "code",
   "execution_count": 5,
   "metadata": {},
   "outputs": [
    {
     "name": "stdout",
     "output_type": "stream",
     "text": [
      "[0 1 2 3 4 5 6 7 8 9]\n"
     ]
    },
    {
     "name": "stderr",
     "output_type": "stream",
     "text": [
      "/home/arif/.local/lib/python2.7/site-packages/ipykernel_launcher.py:18: RuntimeWarning: divide by zero encountered in log2\n",
      "/home/arif/.local/lib/python2.7/site-packages/ipykernel_launcher.py:18: RuntimeWarning: invalid value encountered in multiply\n",
      "/home/arif/.local/lib/python2.7/site-packages/ipykernel_launcher.py:3: RuntimeWarning: overflow encountered in exp\n",
      "  This is separate from the ipykernel package so we can avoid doing imports until\n"
     ]
    }
   ],
   "source": [
    "# print(y_train)\n",
    "y_unik = np.unique(y_train)\n",
    "ws = []\n",
    "bs = []\n",
    "ers=[]\n",
    "print(y_unik)\n",
    "for ix in y_unik:\n",
    "    y_true = np.array(Y)\n",
    "\n",
    "    \n",
    "    y_true[y_true==ix] = 20\n",
    "    y_true[y_true!=20] = 30\n",
    "\n",
    "    y_true[y_true==20] = 1\n",
    "    y_true[y_true==30] = 0\n",
    "    x_true = X[:]\n",
    "    \n",
    "    W = 3*np.random.random(x_train.shape[1],)\n",
    "    B = 5*np.random.random()\n",
    "\n",
    "    for iy in range(20):\n",
    "        err,W,B=grad_Descent(x_true,y_true,W,B,lr=0.5)\n",
    "    \n",
    "\n",
    "    ers.append(err)\n",
    "    ws.append(W)\n",
    "    bs.append(B)\n",
    "    \n",
    "   \n",
    "    "
   ]
  },
  {
   "cell_type": "code",
   "execution_count": 6,
   "metadata": {},
   "outputs": [
    {
     "name": "stdout",
     "output_type": "stream",
     "text": [
      "(10, 784)\n",
      "(10,)\n",
      "10\n",
      "[0 1 2 3 4 5 6 7 8 9]\n",
      "[[ 1.1071854   2.52886478  0.99662569 ...  0.0542889   2.72156908\n",
      "   0.50920471]\n",
      " [ 1.73338744  0.2547816   0.23663147 ... -0.13734544  1.12036437\n",
      "   2.9521097 ]\n",
      " [ 1.45664429  0.49591713  1.15024413 ...  5.07478912  0.83970927\n",
      "   0.81232589]\n",
      " ...\n",
      " [ 2.74296754  2.32382956  0.63580886 ...  1.31001984  1.63797503\n",
      "   0.71829607]\n",
      " [ 2.12589772  0.16708706  2.56027593 ...  1.47977493  1.9324261\n",
      "   2.73892191]\n",
      " [ 2.60614242  2.43178608  0.54660156 ... -0.59614491  1.20859602\n",
      "   1.20437988]]\n"
     ]
    }
   ],
   "source": [
    "ws = np.array(ws)\n",
    "bs = np.array(bs)\n",
    "print(ws.shape)\n",
    "# print(ws[0].shape)\n",
    "print(bs.shape)\n",
    "y_unik = np.unique(y_train)\n",
    "print(y_unik.shape[0])\n",
    "print(y_unik)\n",
    "\n",
    "print(ws)\n",
    "# print(ws)"
   ]
  },
  {
   "cell_type": "code",
   "execution_count": 7,
   "metadata": {},
   "outputs": [
    {
     "data": {
      "text/plain": [
       "'Pullover'"
      ]
     },
     "execution_count": 7,
     "metadata": {},
     "output_type": "execute_result"
    }
   ],
   "source": [
    "def draw(x):\n",
    "    image=x.reshape((28,28))\n",
    "    plt.imshow(image,cmap='gray')\n",
    "    \n",
    "class_table = [\n",
    "    \"T-shirt/top\",\n",
    "    \"Trouser\",\n",
    "    \"Pullover\",\n",
    "    \"Dress\",\n",
    "    \"Coat\",\n",
    "    \"Sandal\",\n",
    "    \"Shirt\",\n",
    "    \"Sneaker\",\n",
    "    \"Bag\",\n",
    "    \"Ankle boot\"\n",
    "]\n",
    "\n",
    "class_table[2]\n"
   ]
  },
  {
   "cell_type": "code",
   "execution_count": 45,
   "metadata": {},
   "outputs": [
    {
     "name": "stdout",
     "output_type": "stream",
     "text": [
      "Dress\n",
      "(784,)\n",
      "3\n"
     ]
    },
    {
     "data": {
      "image/png": "[encoded data removed]",
      "text/plain": [
       "<Figure size 432x288 with 1 Axes>"
      ]
     },
     "metadata": {
      "needs_background": "light"
     },
     "output_type": "display_data"
    }
   ],
   "source": [
    "##Query for Manual Testing\n",
    "x = X[17]\n",
    "x = np.array(x)\n",
    "\n",
    "y = Y[17]\n",
    "\n",
    "draw(x)\n",
    "print(class_table[y])\n",
    "\n",
    "print(x.shape)\n",
    "print(y)"
   ]
  },
  {
   "cell_type": "code",
   "execution_count": 46,
   "metadata": {},
   "outputs": [],
   "source": [
    "##Predicting\n",
    "\n",
    "def predict(x):\n",
    "    prob=[]\n",
    "    \n",
    "    for i in range(bs.shape[0]):\n",
    "        pro = hypo(x,ws[i],bs[i])\n",
    "        prob.append(pro)\n",
    "        \n",
    "    \n",
    "    prob=np.array(prob)\n",
    "#     max = np.max(prob)\n",
    "    \n",
    "#     index = np.where(max)\n",
    "    ind = np.argmax(prob)\n",
    "    print(ind)\n",
    "    print(class_table[ind])"
   ]
  },
  {
   "cell_type": "code",
   "execution_count": 47,
   "metadata": {},
   "outputs": [
    {
     "name": "stdout",
     "output_type": "stream",
     "text": [
      "((784,), (), (784,), ())\n",
      "3\n",
      "Dress\n"
     ]
    },
    {
     "name": "stderr",
     "output_type": "stream",
     "text": [
      "/home/arif/.local/lib/python2.7/site-packages/ipykernel_launcher.py:3: RuntimeWarning: overflow encountered in exp\n",
      "  This is separate from the ipykernel package so we can avoid doing imports until\n"
     ]
    }
   ],
   "source": [
    "print(x.shape , y.shape , ws[2].shape , bs[2].shape)\n",
    "predict(x)\n",
    "# print(bs.shape[0])"
   ]
  },
  {
   "cell_type": "code",
   "execution_count": null,
   "metadata": {},
   "outputs": [],
   "source": []
  },
  {
   "cell_type": "code",
   "execution_count": null,
   "metadata": {},
   "outputs": [],
   "source": []
  }
 ],
 "metadata": {
  "kernelspec": {
   "display_name": "Python 2",
   "language": "python",
   "name": "python2"
  },
  "language_info": {
   "codemirror_mode": {
    "name": "ipython",
    "version": 2
   },
   "file_extension": ".py",
   "mimetype": "text/x-python",
   "name": "python",
   "nbconvert_exporter": "python",
   "pygments_lexer": "ipython2",
   "version": "2.7.12"
  }
 },
 "nbformat": 4,
 "nbformat_minor": 2
}
