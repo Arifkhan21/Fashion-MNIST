{
 "cells": [
  {
   "cell_type": "code",
   "execution_count": 1,
   "metadata": {},
   "outputs": [],
   "source": [
    "import pandas as pd\n",
    "import matplotlib.pyplot as plt\n",
    "import numpy as np\n",
    "%matplotlib inline\n",
    "plt.style.use('seaborn')\n"
   ]
  },
  {
   "cell_type": "code",
   "execution_count": 2,
   "metadata": {},
   "outputs": [],
   "source": [
    "dp = pd.read_csv(\"FashionData/fashion-mnist_train.csv\")\n",
    "data = dp.values\n",
    "data = data[:400,:]\n"
   ]
  },
  {
   "cell_type": "code",
   "execution_count": 3,
   "metadata": {},
   "outputs": [
    {
     "name": "stdout",
     "output_type": "stream",
     "text": [
      "(400, 784)\n",
      "(400,)\n",
      "(400, 784)\n",
      "(400,)\n"
     ]
    }
   ],
   "source": [
    "# print(data[10])\n",
    "dt = np.array(data)\n",
    "np.random.shuffle(dt)\n",
    "# print(data.shape)\n",
    "\n",
    "Y = dt[:,0]\n",
    "X = dt[:,1:]\n",
    "print(X.shape)\n",
    "print(Y.shape)\n",
    "# print(X[1000])\n",
    "# print(Y[1000])\n",
    "\n",
    "x_train=np.array(X)\n",
    "y_train= np.array(Y)\n",
    "print(x_train.shape)\n",
    "print(y_train.shape)"
   ]
  },
  {
   "cell_type": "code",
   "execution_count": 4,
   "metadata": {},
   "outputs": [],
   "source": [
    "def sigmoid(z):\n",
    "    \n",
    "    return 1.0/(1.0 + np.exp(-1.0*z))\n",
    "\n",
    "def hypo(x,w,b):\n",
    "    \n",
    "    h = np.dot(x,w) + b\n",
    "    \n",
    "    return sigmoid(h)\n",
    "\n",
    "def error(y_true,x,w,b):\n",
    "    \n",
    "    m = x.shape[0]\n",
    "    err=0.0\n",
    "    \n",
    "    for ix in range(m):\n",
    "        hx = hypo(x[ix],w,b)\n",
    "#         err += y_true[ix]*np.log2(hx) + (1-y_true[ix])*np.log2(1-hx)\n",
    "        \n",
    "     \n",
    "    return -err/m\n",
    "\n",
    "def get_grad(y_true,x,w,b):\n",
    "    \n",
    "    grad_w=np.zeros(x.shape[1])\n",
    "    grad_b=0.0\n",
    "    \n",
    "    m= x.shape[0]\n",
    "    n= x.shape[1]\n",
    "    for i in range(m):\n",
    "        for j in range(n):\n",
    "            hx = hypo(x[i],w,b)\n",
    "        \n",
    "            grad_w[j] += -1*(y_true[i] - hx)*x[i][j]\n",
    "            grad_b += -1*(y_true[i] - hx)\n",
    "        \n",
    "        \n",
    "    grad_w /=m\n",
    "    grad_b /=m\n",
    "    \n",
    "    return [grad_w, grad_b]\n",
    "\n",
    "def grad_Descent(x,y_true,w,b,lr):\n",
    "    \n",
    "#     err=error(y_true,x,w,b)\n",
    "    \n",
    "    [grad_w,grad_b] = get_grad(y_true,x,w,b)\n",
    "    for i in range(w.shape[0]):\n",
    "             w[i] = w[i] - lr*grad_w[i]\n",
    "    b = b - lr*grad_b\n",
    "   \n",
    "    \n",
    "    return w,b\n"
   ]
  },
  {
   "cell_type": "code",
   "execution_count": 6,
   "metadata": {},
   "outputs": [
    {
     "name": "stdout",
     "output_type": "stream",
     "text": [
      "[9 8 6 8 5 2 1 9 3 6 1 0 6 4 4 9 4 0 6 2 8 0 9 4 6 3 3 4 0 7 1 6 1 8 9 1 7\n",
      " 0 7 2 6 6 6 7 1 9 1 5 4 4 4 5 5 9 8 1 2 7 4 7 6 4 6 8 4 5 7 9 5 9 8 0 6 0\n",
      " 2 9 4 2 0 0 8 3 3 1 5 4 6 6 1 4 3 6 5 8 2 4 7 3 3 8 8 6 2 3 7 0 4 1 2 7 7\n",
      " 5 9 6 3 4 8 0 3 5 6 6 6 4 6 3 7 3 4 4 6 4 5 5 5 9 3 2 3 3 6 4 7 1 6 0 5 1\n",
      " 7 1 9 4 4 6 6 8 7 3 8 6 1 6 8 0 4 7 2 4 5 0 7 6 9 1 2 7 3 8 9 1 8 4 6 8 6\n",
      " 7 6 3 2 4 8 4 8 0 4 8 5 8 7 0 3 4 0 9 3 9 0 9 2 4 6 9 5 0 3 2 6 9 0 4 9 3\n",
      " 9 9 6 3 0 1 5 8 6 3 0 2 5 7 7 3 9 8 2 7 2 3 3 4 3 9 3 3 1 5 3 0 4 9 3 0 0\n",
      " 1 7 3 3 8 7 9 0 9 3 3 2 1 5 8 1 4 9 2 8 5 6 2 6 2 0 8 6 0 2 8 9 0 0 5 5 9\n",
      " 5 1 4 0 3 4 7 3 2 6 6 8 7 3 2 7 9 1 1 7 9 7 5 8 8 3 1 1 9 1 4 1 6 0 5 7 7\n",
      " 1 3 8 0 9 2 8 7 2 7 4 3 5 7 5 5 5 6 4 6 2 2 7 4 6 4 7 2 2 7 2 0 8 9 3 8 5\n",
      " 3 2 6 8 6 3 3 6 2 0 5 2 4 8 7 7 7 5 7 9 2 2 8 5 9 1 2 3 3 5]\n",
      "[0 1 2 3 4 5 6 7 8 9]\n"
     ]
    },
    {
     "name": "stderr",
     "output_type": "stream",
     "text": [
      "/home/arif/.local/lib/python2.7/site-packages/ipykernel_launcher.py:3: RuntimeWarning: overflow encountered in exp\n",
      "  This is separate from the ipykernel package so we can avoid doing imports until\n"
     ]
    }
   ],
   "source": [
    "print(y_train)\n",
    "y_unik = np.unique(y_train)\n",
    "ws = []\n",
    "bs = []\n",
    "print(y_unik)\n",
    "for ix in y_unik:\n",
    "    y_true = np.array(Y)\n",
    "\n",
    "    \n",
    "    y_true[y_true==ix] = 20\n",
    "    y_true[y_true!=20] = 30\n",
    "\n",
    "    y_true[y_true==20] = 1\n",
    "    y_true[y_true==30] = 0\n",
    "    x_true = X[:]\n",
    "    \n",
    "    W = 3*np.random.random(x_train.shape[1],)\n",
    "    B = 5*np.random.random()\n",
    "\n",
    "    for iy in range(10):\n",
    "        W,B=grad_Descent(x_true,y_true,W,B,lr=0.5)\n",
    "    \n",
    "#     thetas[ix][0] = B[0]\n",
    "    \n",
    "#     for iz in range(1,thetas.shape[1]):\n",
    "#         thetas[ix][iz]=W[iz-1]\n",
    "\n",
    "    ws.append(W)\n",
    "    bs.append(B)\n",
    "    \n",
    "   \n",
    "    "
   ]
  },
  {
   "cell_type": "code",
   "execution_count": 7,
   "metadata": {},
   "outputs": [
    {
     "name": "stdout",
     "output_type": "stream",
     "text": [
      "(10, 784)\n",
      "(10,)\n",
      "10\n",
      "[0 1 2 3 4 5 6 7 8 9]\n",
      "[[ 0.57040171  0.16268895  0.66753193 ...  3.43267055  2.70132611\n",
      "   3.01045208]\n",
      " [ 2.42350469  1.64099234  1.58835672 ...  3.72872853  0.43548334\n",
      "   0.81791014]\n",
      " [ 2.43016949  0.97652305  1.01545894 ... -2.87025347  2.82011364\n",
      "   3.01240416]\n",
      " ...\n",
      " [ 2.065157    2.58579202  2.17969521 ...  2.33192184  1.88431563\n",
      "   0.58610445]\n",
      " [ 0.26424213  2.80780452  0.66748118 ...  1.03437816  2.04430919\n",
      "   2.55268372]\n",
      " [ 1.47046497  1.78835284  0.49197328 ... -1.00388164 -1.35422888\n",
      "   0.50422701]]\n"
     ]
    }
   ],
   "source": [
    "ws = np.array(ws)\n",
    "bs = np.array(bs)\n",
    "print(ws.shape)\n",
    "# print(ws[0].shape)\n",
    "print(bs.shape)\n",
    "y_unik = np.unique(y_train)\n",
    "print(y_unik.shape[0])\n",
    "print(y_unik)\n",
    "\n",
    "print(ws)\n",
    "# print(ws)"
   ]
  },
  {
   "cell_type": "code",
   "execution_count": 8,
   "metadata": {},
   "outputs": [
    {
     "data": {
      "text/plain": [
       "'Pullover'"
      ]
     },
     "execution_count": 8,
     "metadata": {},
     "output_type": "execute_result"
    }
   ],
   "source": [
    "def draw(x):\n",
    "    image=x.reshape((28,28))\n",
    "    plt.imshow(image,cmap='gray')\n",
    "    \n",
    "class_table = [\n",
    "    \"T-shirt/top\",\n",
    "    \"Trouser\",\n",
    "    \"Pullover\",\n",
    "    \"Dress\",\n",
    "    \"Coat\",\n",
    "    \"Sandal\",\n",
    "    \"Shirt\",\n",
    "    \"Sneaker\",\n",
    "    \"Bag\",\n",
    "    \"Ankle boot\"\n",
    "]\n",
    "\n",
    "class_table[2]\n"
   ]
  },
  {
   "cell_type": "code",
   "execution_count": 17,
   "metadata": {},
   "outputs": [
    {
     "name": "stdout",
     "output_type": "stream",
     "text": [
      "Sneaker\n",
      "(784,)\n",
      "7\n"
     ]
    },
    {
     "data": {
      "image/png": "[encoded data removed]",
      "text/plain": [
       "<Figure size 432x288 with 1 Axes>"
      ]
     },
     "metadata": {
      "needs_background": "light"
     },
     "output_type": "display_data"
    }
   ],
   "source": [
    "##Query for Manual Testing\n",
    "x = x_train[340]\n",
    "x = np.array(x)\n",
    "\n",
    "y = y_train[340]\n",
    "\n",
    "draw(x)\n",
    "print(class_table[y])\n",
    "\n",
    "print(x.shape)\n",
    "print(y)"
   ]
  },
  {
   "cell_type": "code",
   "execution_count": 18,
   "metadata": {},
   "outputs": [],
   "source": [
    "##Predicting\n",
    "\n",
    "def predict(x):\n",
    "    prob=[]\n",
    "    \n",
    "    for i in range(bs.shape[0]):\n",
    "        pro = hypo(x,ws[i],bs[i])\n",
    "        prob.append(pro)\n",
    "        \n",
    "    \n",
    "    prob=np.array(prob)\n",
    "#     max = np.max(prob)\n",
    "    \n",
    "#     index = np.where(max)\n",
    "    ind = np.argmax(prob)\n",
    "    print(ind)\n",
    "    print(class_table[ind])"
   ]
  },
  {
   "cell_type": "code",
   "execution_count": 19,
   "metadata": {},
   "outputs": [
    {
     "name": "stdout",
     "output_type": "stream",
     "text": [
      "((784,), (), (784,), ())\n",
      "0\n",
      "T-shirt/top\n"
     ]
    }
   ],
   "source": [
    "print(x.shape , y.shape , ws[2].shape , bs[2].shape)\n",
    "predict(x)\n",
    "# print(bs.shape[0])"
   ]
  },
  {
   "cell_type": "code",
   "execution_count": null,
   "metadata": {},
   "outputs": [],
   "source": []
  },
  {
   "cell_type": "code",
   "execution_count": null,
   "metadata": {},
   "outputs": [],
   "source": []
  }
 ],
 "metadata": {
  "kernelspec": {
   "display_name": "Python 2",
   "language": "python",
   "name": "python2"
  },
  "language_info": {
   "codemirror_mode": {
    "name": "ipython",
    "version": 2
   },
   "file_extension": ".py",
   "mimetype": "text/x-python",
   "name": "python",
   "nbconvert_exporter": "python",
   "pygments_lexer": "ipython2",
   "version": "2.7.12"
  }
 },
 "nbformat": 4,
 "nbformat_minor": 2
}
